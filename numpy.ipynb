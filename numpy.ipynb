{
  "nbformat": 4,
  "nbformat_minor": 0,
  "metadata": {
    "colab": {
      "provenance": [],
      "authorship_tag": "ABX9TyNf1U2PSx6jNwPLNrC/1N1k",
      "include_colab_link": true
    },
    "kernelspec": {
      "name": "python3",
      "display_name": "Python 3"
    },
    "language_info": {
      "name": "python"
    }
  },
  "cells": [
    {
      "cell_type": "markdown",
      "metadata": {
        "id": "view-in-github",
        "colab_type": "text"
      },
      "source": [
        "<a href=\"https://colab.research.google.com/github/yashgovind/100xDevs-Cohort3-WebDev-and-Devops/blob/main/numpy.ipynb\" target=\"_parent\"><img src=\"https://colab.research.google.com/assets/colab-badge.svg\" alt=\"Open In Colab\"/></a>"
      ]
    },
    {
      "cell_type": "code",
      "execution_count": 1,
      "metadata": {
        "colab": {
          "base_uri": "https://localhost:8080/"
        },
        "id": "gRBCHLJUGGLC",
        "outputId": "4fcfe1b1-192e-4a50-ac2c-fcf59d6b2bef"
      },
      "outputs": [
        {
          "output_type": "stream",
          "name": "stdout",
          "text": [
            "[1 2 3 4 5]\n",
            "<class 'numpy.ndarray'>\n",
            "(5,)\n"
          ]
        }
      ],
      "source": [
        "import numpy as np\n",
        "\n",
        "#create a array using numpy\n",
        "# create a 1d array\n",
        "arr1 = np.array([1,2,3,4,5])\n",
        "print(arr1)\n",
        "print(type(arr1))\n",
        "print(arr1.shape)"
      ]
    },
    {
      "cell_type": "code",
      "source": [
        "#converted into a 2-d array\n",
        "arr2 = np.array([1,2,3,4,5])\n",
        "print(arr2.reshape(1,5))"
      ],
      "metadata": {
        "colab": {
          "base_uri": "https://localhost:8080/"
        },
        "id": "QoVH0ixqGm9Q",
        "outputId": "3743326c-6bb1-4fd4-d3f5-eb29c5658f7d"
      },
      "execution_count": 4,
      "outputs": [
        {
          "output_type": "stream",
          "name": "stdout",
          "text": [
            "[[1 2 3 4 5]]\n"
          ]
        }
      ]
    },
    {
      "cell_type": "code",
      "source": [
        "arr2 = np.array([[1,2,3,4,5]])\n",
        "arr2.shape"
      ],
      "metadata": {
        "colab": {
          "base_uri": "https://localhost:8080/"
        },
        "id": "ZP8OiVRFHZTW",
        "outputId": "88f1c2fe-f377-4e2c-915e-65a8333eb636"
      },
      "execution_count": 5,
      "outputs": [
        {
          "output_type": "execute_result",
          "data": {
            "text/plain": [
              "(1, 5)"
            ]
          },
          "metadata": {},
          "execution_count": 5
        }
      ]
    },
    {
      "cell_type": "markdown",
      "source": [
        "arr2 = np.array([[1,2,3,4,5],[2,3,4,5,6]]) #2-d array\n",
        "print(arr2)\n",
        "print(arr2.shape) #2 rows 5 col"
      ],
      "metadata": {
        "id": "4O2sOvj9HoWt"
      }
    },
    {
      "cell_type": "code",
      "source": [
        "#creating arrays using inbuilt functions\n",
        "np.arange(0,10,2) #(start,end,step)\n",
        "#reshaping into 2d\n",
        "np.arange(0,10,2).reshape(1,5)\n",
        "# np.arange(0,10,2).reshape(5,1)"
      ],
      "metadata": {
        "colab": {
          "base_uri": "https://localhost:8080/"
        },
        "id": "3uhuRy29Iq5q",
        "outputId": "fbe438ad-a08c-4733-d10a-f75c73ba075f"
      },
      "execution_count": 17,
      "outputs": [
        {
          "output_type": "execute_result",
          "data": {
            "text/plain": [
              "array([[0, 2, 4, 6, 8]])"
            ]
          },
          "metadata": {},
          "execution_count": 17
        }
      ]
    },
    {
      "cell_type": "code",
      "source": [
        "#creating array using prebuilt functions\n",
        "np.ones((3,4)) #creates an array of ones with 3 rows and 4 columns"
      ],
      "metadata": {
        "colab": {
          "base_uri": "https://localhost:8080/"
        },
        "id": "WxYGKcbaIr-o",
        "outputId": "a83d21f4-2da3-4b01-90b2-39bc66e7f548"
      },
      "execution_count": 19,
      "outputs": [
        {
          "output_type": "execute_result",
          "data": {
            "text/plain": [
              "array([[1., 1., 1., 1.],\n",
              "       [1., 1., 1., 1.],\n",
              "       [1., 1., 1., 1.]])"
            ]
          },
          "metadata": {},
          "execution_count": 19
        }
      ]
    },
    {
      "cell_type": "code",
      "source": [
        "#identity matrix  diagonals is 1.\n",
        "np.eye(3)"
      ],
      "metadata": {
        "colab": {
          "base_uri": "https://localhost:8080/"
        },
        "id": "zldDl6Z_JstJ",
        "outputId": "4c5c3b53-b6e1-4685-8621-a0978c807864"
      },
      "execution_count": 20,
      "outputs": [
        {
          "output_type": "execute_result",
          "data": {
            "text/plain": [
              "array([[1., 0., 0.],\n",
              "       [0., 1., 0.],\n",
              "       [0., 0., 1.]])"
            ]
          },
          "metadata": {},
          "execution_count": 20
        }
      ]
    },
    {
      "cell_type": "code",
      "source": [
        "#attributes of numpy array\n",
        "arr = np.array([[1,2,3],[4,5,6]])\n",
        "\n",
        "print('array:\\n',arr)\n",
        "print('array shape:\\n',arr.shape)\n",
        "print('array dimensions:\\n',arr.ndim)\n",
        "print('array size(no of ele):\\n',arr.size)\n",
        "print('array datatype:\\n',arr.dtype)\n",
        "print('array items size(in bytes):\\n',arr.itemsize)\n"
      ],
      "metadata": {
        "colab": {
          "base_uri": "https://localhost:8080/"
        },
        "id": "aRvUVg7-KWnl",
        "outputId": "c28bd9d3-7643-4e35-a66c-024eee8db63e"
      },
      "execution_count": 22,
      "outputs": [
        {
          "output_type": "stream",
          "name": "stdout",
          "text": [
            "array:\n",
            " [[1 2 3]\n",
            " [4 5 6]]\n",
            "array shape:\n",
            " (2, 3)\n",
            "array dimensions:\n",
            " 2\n",
            "array size(no of ele):\n",
            " 6\n",
            "array datatype:\n",
            " int64\n",
            "array items size(in bytes):\n",
            " 8\n"
          ]
        }
      ]
    },
    {
      "cell_type": "code",
      "source": [
        "arr1 = np.array([1,2,3,4,5])\n",
        "arr2 = np.array([10,20,30,40,50])\n",
        "\n",
        "#element wise addition\n",
        "\n",
        "print(\"addition:\",arr1+arr2)# each ele add itself\n",
        "print(\"subtraction:\",arr1-arr2)# each ele sub itself\n",
        "print(\"multiplication:\",arr1*arr2)# each ele mul itself\n",
        "print(\"division:\",arr1/arr2)# each ele div itself"
      ],
      "metadata": {
        "colab": {
          "base_uri": "https://localhost:8080/"
        },
        "id": "MMJZg0oNLRSk",
        "outputId": "42c7200b-8edb-43a5-d55e-8e732f37935e"
      },
      "execution_count": 24,
      "outputs": [
        {
          "output_type": "stream",
          "name": "stdout",
          "text": [
            "addition: [11 22 33 44 55]\n",
            "subtraction: [ -9 -18 -27 -36 -45]\n",
            "multiplication: [ 10  40  90 160 250]\n",
            "division: [0.1 0.1 0.1 0.1 0.1]\n"
          ]
        }
      ]
    },
    {
      "cell_type": "code",
      "source": [
        "#Universal functions\n",
        "arr = np.array([1,2,3,4,5,6])\n",
        "#square root\n",
        "print(np.sqrt(arr)) #square root of each element is being performed\n",
        "\n",
        "#exponential\n",
        "print(np.exp(arr)) #exponential of each ele\n",
        "\n",
        "\n",
        "#sine\n",
        "print(np.sin(arr))\n",
        "\n",
        "#natural log\n",
        "print(np.log(arr))"
      ],
      "metadata": {
        "colab": {
          "base_uri": "https://localhost:8080/"
        },
        "id": "wpdovuqgL5pI",
        "outputId": "8e305e2a-7ab4-4bba-8204-3b5266c7ccd2"
      },
      "execution_count": 26,
      "outputs": [
        {
          "output_type": "stream",
          "name": "stdout",
          "text": [
            "[1.         1.41421356 1.73205081 2.         2.23606798 2.44948974]\n",
            "[  2.71828183   7.3890561   20.08553692  54.59815003 148.4131591\n",
            " 403.42879349]\n",
            "[ 0.84147098  0.90929743  0.14112001 -0.7568025  -0.95892427 -0.2794155 ]\n",
            "[0.         0.69314718 1.09861229 1.38629436 1.60943791 1.79175947]\n"
          ]
        }
      ]
    },
    {
      "cell_type": "code",
      "source": [
        "#array slicing and Indexing\n",
        "\n",
        "arr = np.array([[1,2,3,4],[5,6,7,8],[9,10,11,12]])\n",
        "print(\"Array : \\n\",arr)\n",
        "# arr[0][0] #1 is printed.\n",
        "\n",
        "# print(arr[1:,2:]) # we need 7,8,11,12 -> excercise-01\n",
        "# print(arr[0:2 , 2:]) #we need 3,4,7,8\n",
        "#we need 6,7,10,11\n",
        "# print(arr[1:,1:3])\n",
        "\n",
        "#modifying the array elements\n",
        "arr[0,0] = 100\n",
        "print(arr); #first ele is modified."
      ],
      "metadata": {
        "colab": {
          "base_uri": "https://localhost:8080/"
        },
        "id": "byct3BevM4yt",
        "outputId": "ffb05849-eee9-4af5-9eb5-6417ed9dfb27"
      },
      "execution_count": 34,
      "outputs": [
        {
          "output_type": "stream",
          "name": "stdout",
          "text": [
            "Array : \n",
            " [[ 1  2  3  4]\n",
            " [ 5  6  7  8]\n",
            " [ 9 10 11 12]]\n",
            "[[100   2   3   4]\n",
            " [  5   6   7   8]\n",
            " [  9  10  11  12]]\n"
          ]
        }
      ]
    },
    {
      "cell_type": "code",
      "source": [
        "#Statistical Concept-Normalization\n",
        "#To have a mean of 0 and SD of 1\n",
        "\n",
        "data = np.array([1,2,3,4,5])\n",
        "\n",
        "# mean and sd calculation\n",
        "mean = np.mean(data)\n",
        "std_dev = np.std(data)\n",
        "\n",
        "#normalized data\n",
        "normalized_data = (data - mean) / std_dev\n",
        "\n",
        "print(\"Normalized Data:\",normalized_data)"
      ],
      "metadata": {
        "colab": {
          "base_uri": "https://localhost:8080/"
        },
        "id": "J2Ewtk2xl6gu",
        "outputId": "c86a7842-5dc6-4b3e-c291-f09cb4cda764"
      },
      "execution_count": 35,
      "outputs": [
        {
          "output_type": "stream",
          "name": "stdout",
          "text": [
            "Normalized Data: [-1.41421356 -0.70710678  0.          0.70710678  1.41421356]\n"
          ]
        }
      ]
    },
    {
      "cell_type": "code",
      "source": [
        "#Statistical Concepts MORE-Pt-02\n",
        "\n",
        "data = np.array([1,2,3,4,5])\n",
        "#mean\n",
        "mean = np.mean(data)\n",
        "print(\"mean is:\",mean)\n",
        "\n",
        "#median\n",
        "median = np.median(data)\n",
        "print(\"median is :\",median)\n",
        "\n",
        "#standard deviation\n",
        "std_dev = np.std(data)\n",
        "print('Standard deviation is : ',std_dev)\n",
        "\n",
        "#variance\n",
        "variance = np.var(data)\n",
        "print('Variance is : ',variance)"
      ],
      "metadata": {
        "id": "lfk-xrh5orxL"
      },
      "execution_count": null,
      "outputs": []
    },
    {
      "cell_type": "code",
      "source": [
        "#Logical Operations\n",
        "data = np.array([1,2,3,4,5,6,7,8,9,10])\n",
        "\n",
        "data>5\n",
        "\n",
        "data[data>5]"
      ],
      "metadata": {
        "colab": {
          "base_uri": "https://localhost:8080/"
        },
        "id": "v3Bv_gMbpQ_g",
        "outputId": "9ca5ea66-d524-4a61-e3cc-318dd48c2bda"
      },
      "execution_count": 38,
      "outputs": [
        {
          "output_type": "execute_result",
          "data": {
            "text/plain": [
              "array([ 6,  7,  8,  9, 10])"
            ]
          },
          "metadata": {},
          "execution_count": 38
        }
      ]
    }
  ]
}